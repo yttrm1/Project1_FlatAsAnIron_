# ipynb - Jupyter notebook file for phase I project 

## Repository should include, 
    - data files form project insturction
    - text file
    - powerpoint presentations / presentation saved as pdf file
    - other assets

